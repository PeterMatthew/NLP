{
 "cells": [
  {
   "cell_type": "code",
   "execution_count": 1,
   "metadata": {},
   "outputs": [
    {
     "name": "stderr",
     "output_type": "stream",
     "text": [
      "[nltk_data] Downloading package stopwords to\n",
      "[nltk_data]     C:\\Users\\pedro\\AppData\\Roaming\\nltk_data...\n",
      "[nltk_data]   Package stopwords is already up-to-date!\n",
      "[nltk_data] Downloading package punkt to\n",
      "[nltk_data]     C:\\Users\\pedro\\AppData\\Roaming\\nltk_data...\n",
      "[nltk_data]   Package punkt is already up-to-date!\n",
      "[nltk_data] Downloading package averaged_perceptron_tagger to\n",
      "[nltk_data]     C:\\Users\\pedro\\AppData\\Roaming\\nltk_data...\n",
      "[nltk_data]   Package averaged_perceptron_tagger is already up-to-\n",
      "[nltk_data]       date!\n"
     ]
    },
    {
     "data": {
      "text/plain": [
       "True"
      ]
     },
     "execution_count": 1,
     "metadata": {},
     "output_type": "execute_result"
    }
   ],
   "source": [
    "import re\n",
    "import string\n",
    "import pandas as pd\n",
    "import nltk\n",
    "import itertools\n",
    "from gensim.models import Word2Vec\n",
    "import gensim.downloader as api\n",
    "import numpy as np\n",
    "from sklearn.model_selection import train_test_split\n",
    "from sklearn.linear_model import LogisticRegression\n",
    "from sklearn.naive_bayes import GaussianNB\n",
    "from sklearn import svm\n",
    "from sklearn.metrics import ConfusionMatrixDisplay, confusion_matrix\n",
    "import matplotlib.pyplot as plt\n",
    "from sklearn.metrics import recall_score, accuracy_score, f1_score, precision_score\n",
    "import gensim.downloader as api\n",
    "from gensim.models.doc2vec import Doc2Vec, TaggedDocument\n",
    "from tensorflow import keras\n",
    "from tensorflow.keras.layers import Embedding, LSTM, Dense, Dropout\n",
    "from tensorflow.keras.models import Sequential\n",
    "import spacy\n",
    "import tensorflow as tf\n",
    "\n",
    "nltk.download('stopwords')\n",
    "nltk.download('punkt')\n",
    "nltk.download('averaged_perceptron_tagger')"
   ]
  },
  {
   "cell_type": "code",
   "execution_count": 2,
   "metadata": {},
   "outputs": [
    {
     "name": "stdout",
     "output_type": "stream",
     "text": [
      "['leads', 'say', 'using', 'c', 'x', 'because', 'know', 'c', 'fast', 'lots', 'libs', 'available', 'they', 'might', 'also', 'dislike', 'java', 'cl', 'not', 'every', 'engineering', 'decision', 'perfect', 'lots', 'factors', 'play', 'attempts', 'combine', 'best', 'c', 'speed', 'best', 'scripting', 'languages', 'easy', 'things', 'fast', 'without', 'pay', 'attention', 'opinion', 'end', 'merely', 'joining', 'worst', 'worlds', 'rather', 'best', 'worlds', 'the', 'pay', 'attention', 'things', 'needless', 'complexity', 'memory', 'management', 'etc', 'they', 'reason', 'put', 'things', 'get', 'speed', 'if', 'get', 'adequate', 'speed', 'without', 'nobody', 'cares', 'besides', 'programming', 'specific', 'do', 'really', 'want', 'code', 'stuff', 'without', 'worry', 'details', 'no', 'programming', 'getting', 'results', 'nobody', 'cares', 'details', 'level', 'programming', 'language', 'minutuae', 'we', 'care', 'effort', 'put', 'quality', 'speed', 'results', 'coming', 'ratio']\n"
     ]
    }
   ],
   "source": [
    "df = pd.read_csv('dataset/hacker_news_sample.csv')\n",
    "df = df.dropna(subset=['text'])\n",
    "# remove html symbols\n",
    "df['text'] = df['text'].apply(lambda row: re.sub('\\<[^>]*\\>', ' ', row))\n",
    "df['text'] = df['text'].apply(lambda row: re.sub('\\&[^;]*\\;', ' ', row))\n",
    "\n",
    "stop_words = set(nltk.corpus.stopwords.words(\"english\"))\n",
    "\n",
    "temp = df['text'].apply(lambda row: [x for x in nltk.word_tokenize(row) if x not in stop_words])\n",
    "df['text'] = temp.apply(lambda x: \" \".join(x))\n",
    "\n",
    "df['text'] = df['text'].apply(lambda row: re.sub('\\d', '', row).lower())\n",
    "df['text'] = df['text'].apply(lambda row: row.translate(str.maketrans('', '', string.punctuation)))\n",
    "df['tokenized'] = df['text'].apply(lambda row: nltk.word_tokenize(row))\n",
    "\n",
    "print(df['tokenized'][0])"
   ]
  },
  {
   "attachments": {},
   "cell_type": "markdown",
   "metadata": {},
   "source": [
    "1. O objetivo dessa questão é desenvolver um buscador de documentos.<br>\n",
    "a) escolha e aplique um modelo do tipo word2vec a seus textos, compatível com o idioma de seus textos (inglês ou português).<br>\n",
    "b) escolha 5 palavras de consulta que não estejam em nenhum dos textos. Para cada palavra de consulta, encontre as 3 palavras de seu conjunto de textos mais parecidas com cada uma das palavras de consulta e exiba os documentos onde estas palavras aparecem."
   ]
  },
  {
   "cell_type": "code",
   "execution_count": 3,
   "metadata": {},
   "outputs": [],
   "source": [
    "w2v = api.load(\"glove-wiki-gigaword-100\")"
   ]
  },
  {
   "cell_type": "code",
   "execution_count": 4,
   "metadata": {},
   "outputs": [
    {
     "name": "stdout",
     "output_type": "stream",
     "text": [
      "word \"impetus\" not in dataset\n",
      "word \"draconian\" not in dataset\n",
      "word \"jakarta\" not in dataset\n",
      "word \"anachronism\" not in dataset\n",
      "word \"appoint\" not in dataset\n",
      "impetus -> [('momentum', 0.36874908208847046), ('catalyst', 0.40185099840164185), ('dynamism', 0.4056897759437561)]\n",
      "draconian -> [('stringent', 0.2718791961669922), ('restrictive', 0.30721616744995117), ('drastic', 0.36793142557144165)]\n",
      "jakarta -> [('bangkok', 0.23536723852157593), ('indonesia', 0.3275749683380127), ('philippines', 0.36303389072418213)]\n",
      "anachronism -> [('oddity', 0.3568089008331299), ('anticlimax', 0.41538649797439575), ('eyesore', 0.42190468311309814)]\n",
      "appoint -> [('appointing', 0.2199299931526184), ('elect', 0.3244057893753052), ('appointed', 0.3283262252807617)]\n"
     ]
    }
   ],
   "source": [
    "words = ['impetus', 'draconian', 'jakarta', 'anachronism', 'appoint']\n",
    "\n",
    "for word in words:\n",
    "    if word not in list(itertools.chain(*df['tokenized'].tolist())):\n",
    "        print(f'word \"{word}\" not in dataset')\n",
    "\n",
    "for word in words:\n",
    "    similarities = []\n",
    "    for word2 in list(itertools.chain(*df['tokenized'].tolist())):\n",
    "        if word2 in w2v.index_to_key:\n",
    "            similarities.append((word2, w2v.distance(word2, word)))\n",
    "    print(word, '->', sorted(list(dict(similarities).items()), key=lambda x: x[1])[:3])\n",
    "\n"
   ]
  },
  {
   "attachments": {},
   "cell_type": "markdown",
   "metadata": {},
   "source": [
    "c) Seja d um documento da base e w uma palavra de consulta. Implemente o seguinte algoritmo para buscar documentos:\n",
    "1. Encontre d10(w): a lista com as 10 palavras mais parecidas com w em um certo documento d.\n",
    "2. Para cada documento d, calcule a distância média DM10(w) entre w e as palavras de d10(w).\n",
    "3. Recupere os 3 documentos da base cuja DM10(w) é menor.<br>\n",
    "\n",
    "d) aplique o algoritmo para buscar documentos em 5 palavras distintas, e exiba os 3 documentos mais próximos de cada um."
   ]
  },
  {
   "cell_type": "code",
   "execution_count": 5,
   "metadata": {},
   "outputs": [],
   "source": [
    "def algorithm(search_word):\n",
    "    dm10s = []\n",
    "    for i, (doc, text) in enumerate(zip(df['tokenized'], df['text'])):\n",
    "        top10_words = []\n",
    "\n",
    "        for word in doc:\n",
    "            if word in w2v.index_to_key:\n",
    "                top10_words.append((word, w2v.distance(word, search_word)))\n",
    "        top10_words = sorted(list(dict(top10_words).items()), key=lambda x: x[1])[:10]\n",
    "        if not top10_words: continue\n",
    "        dm10s.append((text, sum(dist for key, dist in top10_words) / 10))\n",
    "    \n",
    "    return sorted(dm10s, key=lambda x: x[1])[:3]"
   ]
  },
  {
   "cell_type": "code",
   "execution_count": 6,
   "metadata": {},
   "outputs": [
    {
     "name": "stdout",
     "output_type": "stream",
     "text": [
      "[('excellent ', 0.04092051982879639), ('genius', 0.043604600429534915), ('same', 0.059295618534088136)]\n"
     ]
    }
   ],
   "source": [
    "search_word = 'skill'\n",
    "print(algorithm(search_word))"
   ]
  },
  {
   "cell_type": "code",
   "execution_count": 7,
   "metadata": {},
   "outputs": [
    {
     "name": "stdout",
     "output_type": "stream",
     "text": [
      "[('http  wwwsnopescomcollegeadmincakesaleasp', 0.06455995440483094), ('http  wwwicebikeorg', 0.06455995440483094), ('http  wwwcoboloncogsorgindexhtm', 0.06455995440483094)]\n"
     ]
    }
   ],
   "source": [
    "search_word = 'coding'\n",
    "print(algorithm(search_word))"
   ]
  },
  {
   "cell_type": "code",
   "execution_count": 8,
   "metadata": {},
   "outputs": [
    {
     "name": "stdout",
     "output_type": "stream",
     "text": [
      "[('information', 0.03733499646186829), ('google', 0.04081806540489197), ('other anons ', 0.05001626908779144)]\n"
     ]
    }
   ],
   "source": [
    "search_word = 'computer'\n",
    "print(algorithm(search_word))"
   ]
  },
  {
   "cell_type": "code",
   "execution_count": 9,
   "metadata": {},
   "outputs": [
    {
     "name": "stdout",
     "output_type": "stream",
     "text": [
      "[('it ', 0.04516200423240661), ('same', 0.046538299322128295), ('until ', 0.04733392596244812)]\n"
     ]
    }
   ],
   "source": [
    "search_word = 'operation'\n",
    "print(algorithm(search_word))"
   ]
  },
  {
   "cell_type": "code",
   "execution_count": 10,
   "metadata": {},
   "outputs": [
    {
     "name": "stdout",
     "output_type": "stream",
     "text": [
      "[('google', 0.056378531455993655), ('ie  ', 0.059738066792488095), ('ie', 0.059738066792488095)]\n"
     ]
    }
   ],
   "source": [
    "search_word = 'linux'\n",
    "print(algorithm(search_word))"
   ]
  },
  {
   "cell_type": "markdown",
   "metadata": {},
   "source": [
    "2. Resolva novamente a segunda questão da 2a lista e compare com os resultados obtidos anteriormente:\n",
    "\n",
    "a) Aplicando a representação vetorial Doc2Vec combinado com os classificadores usados anteriormente."
   ]
  },
  {
   "cell_type": "code",
   "execution_count": 11,
   "metadata": {},
   "outputs": [],
   "source": [
    "data = df[['text', 'type']][:200]\n",
    "temp = df[['text', 'type']][200:]\n",
    "data = pd.concat([data, temp.loc[temp['type'] == 'story']])\n",
    "data['tokenized'] = data['text'].apply(lambda row: nltk.word_tokenize(row))\n",
    "# comment -> 0\n",
    "# story -> 1\n",
    "\n",
    "y = [0 if i == 'comment' else 1 for i in data['type']]\n",
    "\n",
    "docs = [TaggedDocument(doc, [i]) for i, doc in enumerate(data['tokenized'])]\n",
    "d2v = Doc2Vec(docs, vector_size=200, window=8, min_count=1, workers=4)\n",
    "\n",
    "data_d2v = [d2v.infer_vector(u) for u in data['tokenized']]"
   ]
  },
  {
   "cell_type": "code",
   "execution_count": 12,
   "metadata": {},
   "outputs": [
    {
     "data": {
      "text/plain": [
       "<sklearn.metrics._plot.confusion_matrix.ConfusionMatrixDisplay at 0x29212447130>"
      ]
     },
     "execution_count": 12,
     "metadata": {},
     "output_type": "execute_result"
    },
    {
     "data": {
      "image/png": "[encoded data removed]",
      "text/plain": [
       "<Figure size 640x480 with 2 Axes>"
      ]
     },
     "metadata": {},
     "output_type": "display_data"
    }
   ],
   "source": [
    "X_train_count, X_test_count, y_train_count, y_test_count = train_test_split(data_d2v, y, test_size=0.3)\n",
    "X_train_tfid, X_test_tfid, y_train_tfid, y_test_tfid = train_test_split(data_d2v, y, test_size=0.3)\n",
    "\n",
    "model = LogisticRegression(class_weight=\"balanced\").fit(X_train_count, y_train_count)\n",
    "pred = model.predict(X_test_count)\n",
    "\n",
    "cm = confusion_matrix(pred, y_test_count)\n",
    "pl = ConfusionMatrixDisplay(cm)\n",
    "pl.plot()"
   ]
  },
  {
   "cell_type": "code",
   "execution_count": 13,
   "metadata": {},
   "outputs": [
    {
     "name": "stdout",
     "output_type": "stream",
     "text": [
      "F1 score 0.574468085106383\n",
      "recall 0.5\n",
      "precisao 0.675\n",
      "acuracia 0.6363636363636364\n"
     ]
    }
   ],
   "source": [
    "print('F1 score '+str(f1_score(y_test_count, pred)))\n",
    "print('recall '+str(recall_score(y_test_count, pred)))\n",
    "print('precisao '+str(precision_score(y_test_count, pred)))\n",
    "print('acuracia '+str(accuracy_score(y_test_count, pred)))"
   ]
  },
  {
   "cell_type": "code",
   "execution_count": 14,
   "metadata": {},
   "outputs": [
    {
     "data": {
      "text/plain": [
       "<sklearn.metrics._plot.confusion_matrix.ConfusionMatrixDisplay at 0x292259ccd00>"
      ]
     },
     "execution_count": 14,
     "metadata": {},
     "output_type": "execute_result"
    },
    {
     "data": {
      "image/png": "[encoded data removed]",
      "text/plain": [
       "<Figure size 640x480 with 2 Axes>"
      ]
     },
     "metadata": {},
     "output_type": "display_data"
    }
   ],
   "source": [
    "model = GaussianNB().fit(X_train_count, y_train_count)\n",
    "pred = model.predict(X_test_count)\n",
    "\n",
    "cm = confusion_matrix(pred, y_test_count)\n",
    "pl = ConfusionMatrixDisplay(cm)\n",
    "pl.plot()"
   ]
  },
  {
   "cell_type": "code",
   "execution_count": 15,
   "metadata": {},
   "outputs": [
    {
     "name": "stdout",
     "output_type": "stream",
     "text": [
      "F1 score 0.5227272727272728\n",
      "recall 0.42592592592592593\n",
      "precisao 0.6764705882352942\n",
      "acuracia 0.6181818181818182\n"
     ]
    }
   ],
   "source": [
    "print('F1 score '+str(f1_score(y_test_count, pred)))\n",
    "print('recall '+str(recall_score(y_test_count, pred)))\n",
    "print('precisao '+str(precision_score(y_test_count, pred)))\n",
    "print('acuracia '+str(accuracy_score(y_test_count, pred)))"
   ]
  },
  {
   "cell_type": "code",
   "execution_count": 16,
   "metadata": {},
   "outputs": [
    {
     "data": {
      "text/plain": [
       "<sklearn.metrics._plot.confusion_matrix.ConfusionMatrixDisplay at 0x292133bec20>"
      ]
     },
     "execution_count": 16,
     "metadata": {},
     "output_type": "execute_result"
    },
    {
     "data": {
      "image/png": "[encoded data removed]",
      "text/plain": [
       "<Figure size 640x480 with 2 Axes>"
      ]
     },
     "metadata": {},
     "output_type": "display_data"
    }
   ],
   "source": [
    "model = svm.SVC(class_weight=\"balanced\").fit(X_train_count, y_train_count)\n",
    "pred = model.predict(X_test_count)\n",
    "\n",
    "cm = confusion_matrix(pred, y_test_count)\n",
    "pl = ConfusionMatrixDisplay(cm)\n",
    "pl.plot()"
   ]
  },
  {
   "cell_type": "code",
   "execution_count": 17,
   "metadata": {},
   "outputs": [
    {
     "name": "stdout",
     "output_type": "stream",
     "text": [
      "F1 score 0.6363636363636364\n",
      "recall 0.6481481481481481\n",
      "precisao 0.625\n",
      "acuracia 0.6363636363636364\n"
     ]
    }
   ],
   "source": [
    "print('F1 score '+str(f1_score(y_test_count, pred)))\n",
    "print('recall '+str(recall_score(y_test_count, pred)))\n",
    "print('precisao '+str(precision_score(y_test_count, pred)))\n",
    "print('acuracia '+str(accuracy_score(y_test_count, pred)))"
   ]
  },
  {
   "attachments": {},
   "cell_type": "markdown",
   "metadata": {},
   "source": [
    "3. Usando sua base de textos:<br>\n",
    "a) Treine uma rede LSTM para gerar texto, que receba uma ou mais palavras de uma frase como entrada. O treinamento deve ser realizado considerando um conjunto supervisionado que gera a próxima palavra de uma sequência de tamanho 4, usando subsequências de sua base."
   ]
  },
  {
   "cell_type": "code",
   "execution_count": 18,
   "metadata": {},
   "outputs": [
    {
     "name": "stderr",
     "output_type": "stream",
     "text": [
      "C:\\Users\\pedro\\AppData\\Local\\Temp\\ipykernel_19084\\254402785.py:23: FutureWarning: The behavior of `series[i:j]` with an integer-dtype index is deprecated. In a future version, this will be treated as *label-based* indexing, consistent with e.g. `series[i]` lookups. To retain the old behavior, use `series.iloc[i:j]`. To get the future behavior, use `series.loc[i:j]`.\n",
      "  inp_sequences, total_words = get_sequence_of_tokens(df[\"text\"][:500])\n"
     ]
    },
    {
     "name": "stdout",
     "output_type": "stream",
     "text": [
      "Model: \"sequential\"\n",
      "_________________________________________________________________\n",
      " Layer (type)                Output Shape              Param #   \n",
      "=================================================================\n",
      " embedding (Embedding)       (None, 507, 10)           58150     \n",
      "                                                                 \n",
      " lstm (LSTM)                 (None, 100)               44400     \n",
      "                                                                 \n",
      " dropout (Dropout)           (None, 100)               0         \n",
      "                                                                 \n",
      " dense (Dense)               (None, 5815)              587315    \n",
      "                                                                 \n",
      "=================================================================\n",
      "Total params: 689,865\n",
      "Trainable params: 689,865\n",
      "Non-trainable params: 0\n",
      "_________________________________________________________________\n",
      "Epoch 1/10\n",
      "583/583 [==============================] - 99s 167ms/step - loss: 8.2284\n",
      "Epoch 2/10\n",
      "583/583 [==============================] - 99s 170ms/step - loss: 7.8405\n",
      "Epoch 3/10\n",
      "583/583 [==============================] - 101s 173ms/step - loss: 7.7270\n",
      "Epoch 4/10\n",
      "583/583 [==============================] - 98s 168ms/step - loss: 7.6091\n",
      "Epoch 5/10\n",
      "583/583 [==============================] - 99s 170ms/step - loss: 7.4703\n",
      "Epoch 6/10\n",
      "583/583 [==============================] - 99s 171ms/step - loss: 7.2943\n",
      "Epoch 7/10\n",
      "583/583 [==============================] - 100s 171ms/step - loss: 7.1004\n",
      "Epoch 8/10\n",
      "583/583 [==============================] - 99s 170ms/step - loss: 6.8794\n",
      "Epoch 9/10\n",
      "583/583 [==============================] - 98s 168ms/step - loss: 6.6782\n",
      "Epoch 10/10\n",
      "583/583 [==============================] - 101s 172ms/step - loss: 6.4552\n"
     ]
    },
    {
     "data": {
      "text/plain": [
       "<keras.callbacks.History at 0x29213372830>"
      ]
     },
     "execution_count": 18,
     "metadata": {},
     "output_type": "execute_result"
    }
   ],
   "source": [
    "tokenizer = tf.keras.preprocessing.text.Tokenizer()\n",
    "\n",
    "def get_sequence_of_tokens(corpus):\n",
    "    tokenizer.fit_on_texts(corpus)\n",
    "    total_words = len(tokenizer.word_index) + 1\n",
    "    \n",
    "    input_sequences = []\n",
    "    for line in corpus:\n",
    "        token_list = tokenizer.texts_to_sequences([line])[0]\n",
    "        for i in range(1, len(token_list)):\n",
    "            n_gram_sequence = token_list[:i+1]\n",
    "            input_sequences.append(n_gram_sequence)\n",
    "    return input_sequences, total_words\n",
    "\n",
    "def generate_padded_sequences(input_sequences):\n",
    "    max_sequence_len = max([len(x) for x in input_sequences])\n",
    "    input_sequences = np.array(tf.keras.utils.pad_sequences(input_sequences, maxlen=max_sequence_len, padding='pre'))\n",
    "    \n",
    "    predictors, label = input_sequences[:,:-1],input_sequences[:,-1]\n",
    "    label = keras.utils.to_categorical(label, num_classes=total_words)\n",
    "    return predictors, label, max_sequence_len\n",
    "\n",
    "inp_sequences, total_words = get_sequence_of_tokens(df[\"text\"][:500])\n",
    "predictors, label, max_sequence_len = generate_padded_sequences(inp_sequences)\n",
    "\n",
    "def create_model(max_sequence_len, total_words):\n",
    "    input_len = max_sequence_len - 1\n",
    "    model = Sequential()\n",
    "    \n",
    "    model.add(Embedding(total_words, 10, input_length=input_len))\n",
    "    model.add(LSTM(100))\n",
    "    model.add(Dropout(0.1))\n",
    "    model.add(Dense(total_words, activation='softmax'))\n",
    "\n",
    "    model.compile(loss='categorical_crossentropy', optimizer='adam')\n",
    "    \n",
    "    return model\n",
    "\n",
    "model = create_model(max_sequence_len, total_words)\n",
    "model.summary()\n",
    "\n",
    "model.fit(predictors, label, epochs=10)"
   ]
  },
  {
   "cell_type": "code",
   "execution_count": 19,
   "metadata": {},
   "outputs": [
    {
     "name": "stdout",
     "output_type": "stream",
     "text": [
      "What Do You I Think I M\n"
     ]
    }
   ],
   "source": [
    "def generate_text(seed_text, next_words, model, max_sequence_len):\n",
    "    for _ in range(next_words):\n",
    "        token_list = tokenizer.texts_to_sequences([seed_text])[0]\n",
    "        token_list = tf.keras.utils.pad_sequences([token_list], maxlen=max_sequence_len-1, padding='pre')\n",
    "        predicted = np.argmax(model.predict(token_list, verbose=0), axis=1)\n",
    "        output_word = \"\"\n",
    "        for word,index in tokenizer.word_index.items():\n",
    "            if index == predicted:\n",
    "                output_word = word\n",
    "                break\n",
    "        seed_text += \" \"+output_word\n",
    "    return seed_text.title()\n",
    "\n",
    "print(generate_text('what do you', 4, model, max_sequence_len))"
   ]
  },
  {
   "attachments": {},
   "cell_type": "markdown",
   "metadata": {},
   "source": [
    "b) Após o treinamento, exiba pelo menos 5 exemplos de textos dados de entrada, e do texto gerado em seguida pela rede treinada. Para cada exemplo, gere pelo menos 10 palavras consecutivamente."
   ]
  },
  {
   "cell_type": "code",
   "execution_count": 20,
   "metadata": {},
   "outputs": [
    {
     "name": "stdout",
     "output_type": "stream",
     "text": [
      "What Do You I Think I M I M I M I M\n",
      "Who Is I Think I Think I Think I M I M\n",
      "What Do You Think I Think I M I M I M I M\n",
      "The Tech Industry Is I Think I Think I Think I M I M\n",
      "Coding Is I Think I Think I Think I M I M\n"
     ]
    }
   ],
   "source": [
    "print(generate_text('what do you', 10, model, max_sequence_len))\n",
    "print(generate_text('who is', 10, model, max_sequence_len))\n",
    "print(generate_text('what do you think', 10, model, max_sequence_len))\n",
    "print(generate_text('the tech industry is', 10, model, max_sequence_len))\n",
    "print(generate_text('coding is', 10, model, max_sequence_len))"
   ]
  },
  {
   "attachments": {},
   "cell_type": "markdown",
   "metadata": {},
   "source": [
    "4. Usando sua base de textos e a biblioteca spaCy, realize as seguintes tarefas:<br>\n",
    "a) Extraia as etiquetas gramaticais (POS) de cada token do seu textos.<br>\n",
    "b) Calcule e plote um gráfico com as frequências de cada tipo gramatical."
   ]
  },
  {
   "cell_type": "code",
   "execution_count": 21,
   "metadata": {},
   "outputs": [
    {
     "data": {
      "image/png": "[encoded data removed]",
      "text/plain": [
       "<Figure size 1500x400 with 1 Axes>"
      ]
     },
     "metadata": {},
     "output_type": "display_data"
    }
   ],
   "source": [
    "nlp = spacy.load(\"en_core_web_sm\")\n",
    "pos_count = []\n",
    "\n",
    "for doc in df[\"text\"]:\n",
    "    for token in nlp(doc):\n",
    "        pos_count.append(token.pos_)\n",
    "\n",
    "plt.figure(figsize=(15,4))\n",
    "plt.hist(pos_count)\n",
    "plt.show()"
   ]
  },
  {
   "attachments": {},
   "cell_type": "markdown",
   "metadata": {},
   "source": [
    "c) Extraia entidades do tipo pessoa e lugar dos seus textos."
   ]
  },
  {
   "cell_type": "code",
   "execution_count": 22,
   "metadata": {},
   "outputs": [
    {
     "name": "stdout",
     "output_type": "stream",
     "text": [
      "[('minutuae', 'PERSON'), ('k roslyn', 'PERSON'), ('msbuild', 'PERSON'), ('asana ifttt', 'PERSON'), ('china', 'GPE'), ('north korea', 'GPE'), ('philadelphia', 'GPE'), ('mozilla jim blandy', 'PERSON'), ('malibu', 'GPE'), ('beverly hills', 'GPE')]\n"
     ]
    }
   ],
   "source": [
    "entities = []\n",
    "for doc in df[\"text\"]:\n",
    "    for entity in nlp(doc).ents:\n",
    "        if entity.label_ in ['PERSON', 'GPE']:\n",
    "            entities.append((entity.text, entity.label_))\n",
    "print(entities[:10])\n"
   ]
  },
  {
   "attachments": {},
   "cell_type": "markdown",
   "metadata": {},
   "source": [
    "d) Identifique e liste as pessoas mais frequentes nos seus textos. Você só deve contar cada entidade 1 vez por documento."
   ]
  },
  {
   "cell_type": "code",
   "execution_count": 23,
   "metadata": {},
   "outputs": [
    {
     "name": "stdout",
     "output_type": "stream",
     "text": [
      "https 28\n",
      "kernel 22\n",
      "java 14\n",
      "don 13\n",
      "max 10\n",
      "bush 9\n",
      "kinda 8\n",
      "npm 8\n",
      "gpu 7\n",
      "enmwikipediaorg wiki 6\n"
     ]
    }
   ],
   "source": [
    "person_freq = {}\n",
    "for doc in df[\"text\"]:\n",
    "    persons = {}\n",
    "    for entity in nlp(doc).ents:\n",
    "        if entity.label_ == 'PERSON':\n",
    "            persons[entity.text] = 1\n",
    "            \n",
    "    for key, value in persons.items():\n",
    "        if key in person_freq:\n",
    "            person_freq[key] += 1\n",
    "        else:\n",
    "            person_freq[key] = 1\n",
    "\n",
    "for x in sorted(person_freq, key=person_freq.get, reverse=True)[:10]:\n",
    "    print(x, person_freq[x])\n"
   ]
  }
 ],
 "metadata": {
  "kernelspec": {
   "display_name": ".venv",
   "language": "python",
   "name": "python3"
  },
  "language_info": {
   "codemirror_mode": {
    "name": "ipython",
    "version": 3
   },
   "file_extension": ".py",
   "mimetype": "text/x-python",
   "name": "python",
   "nbconvert_exporter": "python",
   "pygments_lexer": "ipython3",
   "version": "3.10.7"
  },
  "orig_nbformat": 4,
  "vscode": {
   "interpreter": {
    "hash": "255aa51a805baca83ba1a5c950afba69a030a6324ec00184961973fc05981751"
   }
  }
 },
 "nbformat": 4,
 "nbformat_minor": 2
}
