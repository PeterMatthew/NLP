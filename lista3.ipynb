{
 "cells": [
  {
   "cell_type": "code",
   "execution_count": 1,
   "metadata": {},
   "outputs": [
    {
     "name": "stderr",
     "output_type": "stream",
     "text": [
      "c:\\Users\\pedro\\AppData\\Local\\Programs\\Python\\Python310\\lib\\site-packages\\tqdm\\auto.py:22: TqdmWarning: IProgress not found. Please update jupyter and ipywidgets. See https://ipywidgets.readthedocs.io/en/stable/user_install.html\n",
      "  from .autonotebook import tqdm as notebook_tqdm\n",
      "[nltk_data] Downloading package stopwords to\n",
      "[nltk_data]     C:\\Users\\pedro\\AppData\\Roaming\\nltk_data...\n",
      "[nltk_data]   Package stopwords is already up-to-date!\n",
      "[nltk_data] Downloading package punkt to\n",
      "[nltk_data]     C:\\Users\\pedro\\AppData\\Roaming\\nltk_data...\n",
      "[nltk_data]   Package punkt is already up-to-date!\n",
      "[nltk_data] Downloading package averaged_perceptron_tagger to\n",
      "[nltk_data]     C:\\Users\\pedro\\AppData\\Roaming\\nltk_data...\n",
      "[nltk_data]   Package averaged_perceptron_tagger is already up-to-\n",
      "[nltk_data]       date!\n"
     ]
    },
    {
     "data": {
      "text/plain": [
       "True"
      ]
     },
     "execution_count": 1,
     "metadata": {},
     "output_type": "execute_result"
    }
   ],
   "source": [
    "import re\n",
    "import string\n",
    "import pandas as pd\n",
    "import nltk\n",
    "import itertools\n",
    "from gensim.models import Word2Vec\n",
    "import gensim.downloader as api\n",
    "import numpy as np\n",
    "from sklearn.model_selection import train_test_split\n",
    "from sklearn.linear_model import LogisticRegression\n",
    "from sklearn.naive_bayes import GaussianNB\n",
    "from sklearn import svm\n",
    "from sklearn.metrics import plot_confusion_matrix\n",
    "import matplotlib.pyplot as plt\n",
    "from sklearn.metrics import recall_score, accuracy_score, f1_score, precision_score\n",
    "import gensim.downloader as api\n",
    "from keras_preprocessing.sequence import pad_sequences\n",
    "from keras.layers import Embedding, LSTM, Dense, Dropout\n",
    "from keras_preprocessing.text import Tokenizer\n",
    "import keras\n",
    "from keras.models import Sequential\n",
    "import spacy\n",
    "\n",
    "nltk.download('stopwords')\n",
    "nltk.download('punkt')\n",
    "nltk.download('averaged_perceptron_tagger')"
   ]
  },
  {
   "cell_type": "code",
   "execution_count": 2,
   "metadata": {},
   "outputs": [
    {
     "name": "stdout",
     "output_type": "stream",
     "text": [
      "['leads', 'say', 'using', 'c', 'x', 'because', 'know', 'c', 'fast', 'lots', 'libs', 'available', 'they', 'might', 'also', 'dislike', 'java', 'cl', 'not', 'every', 'engineering', 'decision', 'perfect', 'lots', 'factors', 'play', 'attempts', 'combine', 'best', 'c', 'speed', 'best', 'scripting', 'languages', 'easy', 'things', 'fast', 'without', 'pay', 'attention', 'opinion', 'end', 'merely', 'joining', 'worst', 'worlds', 'rather', 'best', 'worlds', 'the', 'pay', 'attention', 'things', 'needless', 'complexity', 'memory', 'management', 'etc', 'they', 'reason', 'put', 'things', 'get', 'speed', 'if', 'get', 'adequate', 'speed', 'without', 'nobody', 'cares', 'besides', 'programming', 'specific', 'do', 'really', 'want', 'code', 'stuff', 'without', 'worry', 'details', 'no', 'programming', 'getting', 'results', 'nobody', 'cares', 'details', 'level', 'programming', 'language', 'minutuae', 'we', 'care', 'effort', 'put', 'quality', 'speed', 'results', 'coming', 'ratio']\n"
     ]
    }
   ],
   "source": [
    "df = pd.read_csv('dataset/hacker_news_sample.csv')\n",
    "df = df.dropna(subset=['text'])\n",
    "# remove html symbols\n",
    "df['text'] = df['text'].apply(lambda row: re.sub('\\<[^>]*\\>', ' ', row))\n",
    "df['text'] = df['text'].apply(lambda row: re.sub('\\&[^;]*\\;', ' ', row))\n",
    "\n",
    "stop_words = set(nltk.corpus.stopwords.words(\"english\"))\n",
    "\n",
    "temp = df['text'].apply(lambda row: [x for x in nltk.word_tokenize(row) if x not in stop_words])\n",
    "df['text'] = temp.apply(lambda x: \" \".join(x))\n",
    "\n",
    "df['text'] = df['text'].apply(lambda row: re.sub('\\d', '', row).lower())\n",
    "df['text'] = df['text'].apply(lambda row: row.translate(str.maketrans('', '', string.punctuation)))\n",
    "df['tokenized'] = df['text'].apply(lambda row: nltk.word_tokenize(row))\n",
    "\n",
    "print(df['tokenized'][0])"
   ]
  },
  {
   "attachments": {},
   "cell_type": "markdown",
   "metadata": {},
   "source": [
    "1. O objetivo dessa questão é desenvolver um buscador de documentos.<br>\n",
    "a) escolha e aplique um modelo do tipo word2vec a seus textos, compatível com o idioma de seus textos (inglês ou português).<br>\n",
    "b) escolha 5 palavras de consulta que não estejam em nenhum dos textos. Para cada palavra de consulta, encontre as 3 palavras de seu conjunto de textos mais parecidas com cada uma das palavras de consulta e exiba os documentos onde estas palavras aparecem."
   ]
  },
  {
   "cell_type": "code",
   "execution_count": 3,
   "metadata": {},
   "outputs": [],
   "source": [
    "w2v = api.load(\"glove-wiki-gigaword-100\")"
   ]
  },
  {
   "cell_type": "code",
   "execution_count": 4,
   "metadata": {},
   "outputs": [
    {
     "name": "stdout",
     "output_type": "stream",
     "text": [
      "word \"impetus\" not in dataset\n",
      "word \"draconian\" not in dataset\n",
      "word \"jakarta\" not in dataset\n",
      "word \"anachronism\" not in dataset\n",
      "word \"appoint\" not in dataset\n",
      "impetus -> [('momentum', 0.36874908208847046), ('catalyst', 0.40185099840164185), ('dynamism', 0.4056897759437561)]\n",
      "draconian -> [('stringent', 0.2718791961669922), ('restrictive', 0.30721616744995117), ('drastic', 0.36793142557144165)]\n",
      "jakarta -> [('bangkok', 0.23536723852157593), ('indonesia', 0.3275749683380127), ('philippines', 0.36303389072418213)]\n",
      "anachronism -> [('oddity', 0.3568089008331299), ('anticlimax', 0.41538649797439575), ('eyesore', 0.42190468311309814)]\n",
      "appoint -> [('appointing', 0.2199299931526184), ('elect', 0.3244057893753052), ('appointed', 0.3283262252807617)]\n"
     ]
    }
   ],
   "source": [
    "words = ['impetus', 'draconian', 'jakarta', 'anachronism', 'appoint']\n",
    "\n",
    "for word in words:\n",
    "    if word not in list(itertools.chain(*df['tokenized'].tolist())):\n",
    "        print(f'word \"{word}\" not in dataset')\n",
    "\n",
    "for word in words:\n",
    "    similarities = []\n",
    "    for word2 in list(itertools.chain(*df['tokenized'].tolist())):\n",
    "        if word2 in w2v.index_to_key:\n",
    "            similarities.append((word2, w2v.distance(word2, word)))\n",
    "    print(word, '->', sorted(list(dict(similarities).items()), key=lambda x: x[1])[:3])\n",
    "\n"
   ]
  },
  {
   "attachments": {},
   "cell_type": "markdown",
   "metadata": {},
   "source": [
    "c) Seja d um documento da base e w uma palavra de consulta. Implemente o seguinte algoritmo para buscar documentos:\n",
    "1. Encontre d10(w): a lista com as 10 palavras mais parecidas com w em um certo documento d.\n",
    "2. Para cada documento d, calcule a distância média DM10(w) entre w e as palavras de d10(w).\n",
    "3. Recupere os 3 documentos da base cuja DM10(w) é menor.<br>\n",
    "\n",
    "d) aplique o algoritmo para buscar documentos em 5 palavras distintas, e exiba os 3 documentos mais próximos de cada um."
   ]
  },
  {
   "cell_type": "code",
   "execution_count": 5,
   "metadata": {},
   "outputs": [],
   "source": [
    "def algorithm(search_word):\n",
    "    dm10s = []\n",
    "    for i, (doc, text) in enumerate(zip(df['tokenized'], df['text'])):\n",
    "        top10_words = []\n",
    "\n",
    "        for word in doc:\n",
    "            if word in w2v.index_to_key:\n",
    "                top10_words.append((word, w2v.distance(word, search_word)))\n",
    "        top10_words = sorted(list(dict(top10_words).items()), key=lambda x: x[1])[:10]\n",
    "        if not top10_words: continue\n",
    "        dm10s.append((text, sum(dist for key, dist in top10_words) / 10))\n",
    "    \n",
    "    return sorted(dm10s, key=lambda x: x[1])[:3]"
   ]
  },
  {
   "cell_type": "code",
   "execution_count": 6,
   "metadata": {},
   "outputs": [
    {
     "name": "stdout",
     "output_type": "stream",
     "text": [
      "[('excellent ', 0.04092051982879639), ('genius', 0.043604600429534915), ('same', 0.059295618534088136)]\n"
     ]
    }
   ],
   "source": [
    "search_word = 'skill'\n",
    "print(algorithm(search_word))"
   ]
  },
  {
   "cell_type": "code",
   "execution_count": 7,
   "metadata": {},
   "outputs": [
    {
     "name": "stdout",
     "output_type": "stream",
     "text": [
      "[('http  wwwsnopescomcollegeadmincakesaleasp', 0.06455995440483094), ('http  wwwicebikeorg', 0.06455995440483094), ('http  wwwcoboloncogsorgindexhtm', 0.06455995440483094)]\n"
     ]
    }
   ],
   "source": [
    "search_word = 'coding'\n",
    "print(algorithm(search_word))"
   ]
  },
  {
   "cell_type": "code",
   "execution_count": 8,
   "metadata": {},
   "outputs": [
    {
     "name": "stdout",
     "output_type": "stream",
     "text": [
      "[('information', 0.03733499646186829), ('google', 0.04081806540489197), ('other anons ', 0.05001626908779144)]\n"
     ]
    }
   ],
   "source": [
    "search_word = 'computer'\n",
    "print(algorithm(search_word))"
   ]
  },
  {
   "cell_type": "code",
   "execution_count": 9,
   "metadata": {},
   "outputs": [
    {
     "name": "stdout",
     "output_type": "stream",
     "text": [
      "[('it ', 0.04516200423240661), ('same', 0.046538299322128295), ('until ', 0.04733392596244812)]\n"
     ]
    }
   ],
   "source": [
    "search_word = 'operation'\n",
    "print(algorithm(search_word))"
   ]
  },
  {
   "cell_type": "code",
   "execution_count": 10,
   "metadata": {},
   "outputs": [
    {
     "name": "stdout",
     "output_type": "stream",
     "text": [
      "[('google', 0.056378531455993655), ('ie  ', 0.059738066792488095), ('ie', 0.059738066792488095)]\n"
     ]
    }
   ],
   "source": [
    "search_word = 'linux'\n",
    "print(algorithm(search_word))"
   ]
  },
  {
   "cell_type": "markdown",
   "metadata": {},
   "source": [
    "2. Resolva novamente a segunda questão da 2a lista e compare com os resultados obtidos anteriormente:\n",
    "\n",
    "a) Aplicando a representação vetorial Doc2Vec combinado com os classificadores usados anteriormente."
   ]
  },
  {
   "cell_type": "code",
   "execution_count": 11,
   "metadata": {},
   "outputs": [],
   "source": [
    "data = df[['text', 'type']][:200]\n",
    "temp = df[['text', 'type']][200:]\n",
    "data = pd.concat([data, temp.loc[temp['type'] == 'story']])\n",
    "data['tokenized'] = data['text'].apply(lambda row: nltk.word_tokenize(row))\n",
    "# comment -> 0\n",
    "# story -> 1\n",
    "\n",
    "y = [0 if i == 'comment' else 1 for i in data['type']]\n",
    "\n",
    "w2v = Word2Vec(data['tokenized'])\n",
    "\n",
    "def document2vector(doc):\n",
    "    doc = [word for word in doc if word in w2v.wv.key_to_index]\n",
    "    if doc:\n",
    "        embedding = np.zeros((len(doc), 100), dtype=np.float32)\n",
    "        for i, word in enumerate(doc):\n",
    "            embedding[i] = w2v.wv[word]\n",
    "\n",
    "        return np.mean(embedding, axis=0)\n",
    "    else:\n",
    "        return np.zeros(100)\n",
    "        \n",
    "data_text = np.array([document2vector(words) for words in data['tokenized']])\n"
   ]
  },
  {
   "cell_type": "code",
   "execution_count": 12,
   "metadata": {},
   "outputs": [
    {
     "name": "stderr",
     "output_type": "stream",
     "text": [
      "c:\\Users\\pedro\\AppData\\Local\\Programs\\Python\\Python310\\lib\\site-packages\\sklearn\\utils\\deprecation.py:87: FutureWarning: Function plot_confusion_matrix is deprecated; Function `plot_confusion_matrix` is deprecated in 1.0 and will be removed in 1.2. Use one of the class methods: ConfusionMatrixDisplay.from_predictions or ConfusionMatrixDisplay.from_estimator.\n",
      "  warnings.warn(msg, category=FutureWarning)\n"
     ]
    },
    {
     "data": {
      "image/png": "[encoded data removed]",
      "text/plain": [
       "<Figure size 640x480 with 2 Axes>"
      ]
     },
     "metadata": {},
     "output_type": "display_data"
    }
   ],
   "source": [
    "X_train_count, X_test_count, y_train_count, y_test_count = train_test_split(data_text, y, test_size=0.3)\n",
    "X_train_tfid, X_test_tfid, y_train_tfid, y_test_tfid = train_test_split(data_text, y, test_size=0.3)\n",
    "\n",
    "model = LogisticRegression(class_weight=\"balanced\").fit(X_train_count, y_train_count)\n",
    "pred = model.predict(X_test_count)\n",
    "\n",
    "plot_confusion_matrix(model, X_test_count, y_test_count)\n",
    "plt.show()"
   ]
  },
  {
   "cell_type": "code",
   "execution_count": 13,
   "metadata": {},
   "outputs": [
    {
     "name": "stdout",
     "output_type": "stream",
     "text": [
      "F1 score 0.46938775510204084\n",
      "recall 0.48936170212765956\n",
      "precisao 0.45098039215686275\n",
      "acuracia 0.5272727272727272\n"
     ]
    }
   ],
   "source": [
    "print('F1 score '+str(f1_score(y_test_count, pred)))\n",
    "print('recall '+str(recall_score(y_test_count, pred)))\n",
    "print('precisao '+str(precision_score(y_test_count, pred)))\n",
    "print('acuracia '+str(accuracy_score(y_test_count, pred)))"
   ]
  },
  {
   "cell_type": "code",
   "execution_count": 14,
   "metadata": {},
   "outputs": [
    {
     "name": "stderr",
     "output_type": "stream",
     "text": [
      "c:\\Users\\pedro\\AppData\\Local\\Programs\\Python\\Python310\\lib\\site-packages\\sklearn\\utils\\deprecation.py:87: FutureWarning: Function plot_confusion_matrix is deprecated; Function `plot_confusion_matrix` is deprecated in 1.0 and will be removed in 1.2. Use one of the class methods: ConfusionMatrixDisplay.from_predictions or ConfusionMatrixDisplay.from_estimator.\n",
      "  warnings.warn(msg, category=FutureWarning)\n"
     ]
    },
    {
     "data": {
      "image/png": "[encoded data removed]",
      "text/plain": [
       "<Figure size 640x480 with 2 Axes>"
      ]
     },
     "metadata": {},
     "output_type": "display_data"
    }
   ],
   "source": [
    "model = GaussianNB().fit(X_train_count, y_train_count)\n",
    "pred = model.predict(X_test_count)\n",
    "\n",
    "plot_confusion_matrix(model, X_test_count, y_test_count)\n",
    "plt.show()"
   ]
  },
  {
   "cell_type": "code",
   "execution_count": 15,
   "metadata": {},
   "outputs": [
    {
     "name": "stdout",
     "output_type": "stream",
     "text": [
      "F1 score 0.5666666666666667\n",
      "recall 0.723404255319149\n",
      "precisao 0.4657534246575342\n",
      "acuracia 0.5272727272727272\n"
     ]
    }
   ],
   "source": [
    "print('F1 score '+str(f1_score(y_test_count, pred)))\n",
    "print('recall '+str(recall_score(y_test_count, pred)))\n",
    "print('precisao '+str(precision_score(y_test_count, pred)))\n",
    "print('acuracia '+str(accuracy_score(y_test_count, pred)))"
   ]
  },
  {
   "cell_type": "code",
   "execution_count": 16,
   "metadata": {},
   "outputs": [
    {
     "name": "stderr",
     "output_type": "stream",
     "text": [
      "c:\\Users\\pedro\\AppData\\Local\\Programs\\Python\\Python310\\lib\\site-packages\\sklearn\\utils\\deprecation.py:87: FutureWarning: Function plot_confusion_matrix is deprecated; Function `plot_confusion_matrix` is deprecated in 1.0 and will be removed in 1.2. Use one of the class methods: ConfusionMatrixDisplay.from_predictions or ConfusionMatrixDisplay.from_estimator.\n",
      "  warnings.warn(msg, category=FutureWarning)\n"
     ]
    },
    {
     "data": {
      "image/png": "[encoded data removed]",
      "text/plain": [
       "<Figure size 640x480 with 2 Axes>"
      ]
     },
     "metadata": {},
     "output_type": "display_data"
    }
   ],
   "source": [
    "model = svm.SVC(class_weight=\"balanced\").fit(X_train_count, y_train_count)\n",
    "pred = model.predict(X_test_count)\n",
    "\n",
    "plot_confusion_matrix(model, X_test_count, y_test_count)\n",
    "plt.show()"
   ]
  },
  {
   "cell_type": "code",
   "execution_count": 17,
   "metadata": {},
   "outputs": [
    {
     "name": "stdout",
     "output_type": "stream",
     "text": [
      "F1 score 0.5405405405405406\n",
      "recall 0.6382978723404256\n",
      "precisao 0.46875\n",
      "acuracia 0.5363636363636364\n"
     ]
    }
   ],
   "source": [
    "print('F1 score '+str(f1_score(y_test_count, pred)))\n",
    "print('recall '+str(recall_score(y_test_count, pred)))\n",
    "print('precisao '+str(precision_score(y_test_count, pred)))\n",
    "print('acuracia '+str(accuracy_score(y_test_count, pred)))"
   ]
  },
  {
   "attachments": {},
   "cell_type": "markdown",
   "metadata": {},
   "source": [
    "3. Usando sua base de textos:<br>\n",
    "a) Treine uma rede LSTM para gerar texto, que receba uma ou mais palavras de uma frase como entrada. O treinamento deve ser realizado considerando um conjunto supervisionado que gera a próxima palavra de uma sequência de tamanho 4, usando subsequências de sua base."
   ]
  },
  {
   "cell_type": "code",
   "execution_count": 3,
   "metadata": {},
   "outputs": [
    {
     "ename": "InternalError",
     "evalue": "cudaGetDevice() failed. Status: cudaGetErrorString symbol not found.",
     "output_type": "error",
     "traceback": [
      "\u001b[1;31m---------------------------------------------------------------------------\u001b[0m",
      "\u001b[1;31mInternalError\u001b[0m                             Traceback (most recent call last)",
      "Cell \u001b[1;32mIn [3], line 39\u001b[0m\n\u001b[0;32m     35\u001b[0m     model\u001b[39m.\u001b[39mcompile(loss\u001b[39m=\u001b[39m\u001b[39m'\u001b[39m\u001b[39mcategorical_crossentropy\u001b[39m\u001b[39m'\u001b[39m, optimizer\u001b[39m=\u001b[39m\u001b[39m'\u001b[39m\u001b[39madam\u001b[39m\u001b[39m'\u001b[39m)\n\u001b[0;32m     37\u001b[0m     \u001b[39mreturn\u001b[39;00m model\n\u001b[1;32m---> 39\u001b[0m model \u001b[39m=\u001b[39m create_model(max_sequence_len, total_words)\n\u001b[0;32m     40\u001b[0m model\u001b[39m.\u001b[39msummary()\n\u001b[0;32m     42\u001b[0m model\u001b[39m.\u001b[39mfit(predictors, label, epochs\u001b[39m=\u001b[39m\u001b[39m20\u001b[39m)\n",
      "Cell \u001b[1;32mIn [3], line 28\u001b[0m, in \u001b[0;36mcreate_model\u001b[1;34m(max_sequence_len, total_words)\u001b[0m\n\u001b[0;32m     26\u001b[0m \u001b[39mdef\u001b[39;00m \u001b[39mcreate_model\u001b[39m(max_sequence_len, total_words):\n\u001b[0;32m     27\u001b[0m     input_len \u001b[39m=\u001b[39m max_sequence_len \u001b[39m-\u001b[39m \u001b[39m1\u001b[39m\n\u001b[1;32m---> 28\u001b[0m     model \u001b[39m=\u001b[39m Sequential()\n\u001b[0;32m     30\u001b[0m     model\u001b[39m.\u001b[39madd(Embedding(total_words, \u001b[39m10\u001b[39m, input_length\u001b[39m=\u001b[39minput_len))\n\u001b[0;32m     31\u001b[0m     model\u001b[39m.\u001b[39madd(LSTM(\u001b[39m100\u001b[39m))\n",
      "File \u001b[1;32m~\\AppData\\Roaming\\Python\\Python310\\site-packages\\tensorflow\\python\\trackable\\base.py:205\u001b[0m, in \u001b[0;36mno_automatic_dependency_tracking.<locals>._method_wrapper\u001b[1;34m(self, *args, **kwargs)\u001b[0m\n\u001b[0;32m    203\u001b[0m \u001b[39mself\u001b[39m\u001b[39m.\u001b[39m_self_setattr_tracking \u001b[39m=\u001b[39m \u001b[39mFalse\u001b[39;00m  \u001b[39m# pylint: disable=protected-access\u001b[39;00m\n\u001b[0;32m    204\u001b[0m \u001b[39mtry\u001b[39;00m:\n\u001b[1;32m--> 205\u001b[0m   result \u001b[39m=\u001b[39m method(\u001b[39mself\u001b[39m, \u001b[39m*\u001b[39margs, \u001b[39m*\u001b[39m\u001b[39m*\u001b[39mkwargs)\n\u001b[0;32m    206\u001b[0m \u001b[39mfinally\u001b[39;00m:\n\u001b[0;32m    207\u001b[0m   \u001b[39mself\u001b[39m\u001b[39m.\u001b[39m_self_setattr_tracking \u001b[39m=\u001b[39m previous_value  \u001b[39m# pylint: disable=protected-access\u001b[39;00m\n",
      "File \u001b[1;32mc:\\Users\\pedro\\AppData\\Local\\Programs\\Python\\Python310\\lib\\site-packages\\keras\\utils\\traceback_utils.py:70\u001b[0m, in \u001b[0;36mfilter_traceback.<locals>.error_handler\u001b[1;34m(*args, **kwargs)\u001b[0m\n\u001b[0;32m     67\u001b[0m     filtered_tb \u001b[39m=\u001b[39m _process_traceback_frames(e\u001b[39m.\u001b[39m__traceback__)\n\u001b[0;32m     68\u001b[0m     \u001b[39m# To get the full stack trace, call:\u001b[39;00m\n\u001b[0;32m     69\u001b[0m     \u001b[39m# `tf.debugging.disable_traceback_filtering()`\u001b[39;00m\n\u001b[1;32m---> 70\u001b[0m     \u001b[39mraise\u001b[39;00m e\u001b[39m.\u001b[39mwith_traceback(filtered_tb) \u001b[39mfrom\u001b[39;00m \u001b[39mNone\u001b[39m\n\u001b[0;32m     71\u001b[0m \u001b[39mfinally\u001b[39;00m:\n\u001b[0;32m     72\u001b[0m     \u001b[39mdel\u001b[39;00m filtered_tb\n",
      "File \u001b[1;32m~\\AppData\\Roaming\\Python\\Python310\\site-packages\\tensorflow\\python\\eager\\context.py:622\u001b[0m, in \u001b[0;36mContext.ensure_initialized\u001b[1;34m(self)\u001b[0m\n\u001b[0;32m    618\u001b[0m   pywrap_tfe\u001b[39m.\u001b[39mTFE_ContextOptionsSetRunEagerOpAsFunction(\n\u001b[0;32m    619\u001b[0m       opts, \u001b[39mself\u001b[39m\u001b[39m.\u001b[39m_run_eager_op_as_function)\n\u001b[0;32m    620\u001b[0m   pywrap_tfe\u001b[39m.\u001b[39mTFE_ContextOptionsSetJitCompileRewrite(\n\u001b[0;32m    621\u001b[0m       opts, \u001b[39mself\u001b[39m\u001b[39m.\u001b[39m_jit_compile_rewrite)\n\u001b[1;32m--> 622\u001b[0m   context_handle \u001b[39m=\u001b[39m pywrap_tfe\u001b[39m.\u001b[39mTFE_NewContext(opts)\n\u001b[0;32m    623\u001b[0m \u001b[39mfinally\u001b[39;00m:\n\u001b[0;32m    624\u001b[0m   pywrap_tfe\u001b[39m.\u001b[39mTFE_DeleteContextOptions(opts)\n",
      "\u001b[1;31mInternalError\u001b[0m: cudaGetDevice() failed. Status: cudaGetErrorString symbol not found."
     ]
    }
   ],
   "source": [
    "tokenizer = Tokenizer()\n",
    "\n",
    "def get_sequence_of_tokens(corpus):\n",
    "    tokenizer.fit_on_texts(corpus)\n",
    "    total_words = len(tokenizer.word_index) + 1\n",
    "    \n",
    "    input_sequences = []\n",
    "    for line in corpus:\n",
    "        token_list = tokenizer.texts_to_sequences([line])[0]\n",
    "        for i in range(1, len(token_list)):\n",
    "            n_gram_sequence = token_list[:i+1]\n",
    "            input_sequences.append(n_gram_sequence)\n",
    "    return input_sequences, total_words\n",
    "\n",
    "def generate_padded_sequences(input_sequences):\n",
    "    max_sequence_len = max([len(x) for x in input_sequences])\n",
    "    input_sequences = np.array(pad_sequences(input_sequences, maxlen=max_sequence_len, padding='pre'))\n",
    "    \n",
    "    predictors, label = input_sequences[:,:-1],input_sequences[:,-1]\n",
    "    label = keras.utils.to_categorical(label, num_classes=total_words)\n",
    "    return predictors, label, max_sequence_len\n",
    "\n",
    "inp_sequences, total_words = get_sequence_of_tokens(df[\"text\"][:500])\n",
    "predictors, label, max_sequence_len = generate_padded_sequences(inp_sequences)\n",
    "\n",
    "def create_model(max_sequence_len, total_words):\n",
    "    input_len = max_sequence_len - 1\n",
    "    model = Sequential()\n",
    "    \n",
    "    model.add(Embedding(total_words, 10, input_length=input_len))\n",
    "    model.add(LSTM(100))\n",
    "    model.add(Dropout(0.1))\n",
    "    model.add(Dense(total_words, activation='softmax'))\n",
    "\n",
    "    model.compile(loss='categorical_crossentropy', optimizer='adam')\n",
    "    \n",
    "    return model\n",
    "\n",
    "model = create_model(max_sequence_len, total_words)\n",
    "model.summary()\n",
    "\n",
    "model.fit(predictors, label, epochs=20)"
   ]
  },
  {
   "cell_type": "code",
   "execution_count": 4,
   "metadata": {},
   "outputs": [
    {
     "ename": "NameError",
     "evalue": "name 'model' is not defined",
     "output_type": "error",
     "traceback": [
      "\u001b[1;31m---------------------------------------------------------------------------\u001b[0m",
      "\u001b[1;31mNameError\u001b[0m                                 Traceback (most recent call last)",
      "Cell \u001b[1;32mIn [4], line 14\u001b[0m\n\u001b[0;32m     11\u001b[0m         seed_text \u001b[39m+\u001b[39m\u001b[39m=\u001b[39m \u001b[39m\"\u001b[39m\u001b[39m \u001b[39m\u001b[39m\"\u001b[39m\u001b[39m+\u001b[39moutput_word\n\u001b[0;32m     12\u001b[0m     \u001b[39mreturn\u001b[39;00m seed_text\u001b[39m.\u001b[39mtitle()\n\u001b[1;32m---> 14\u001b[0m \u001b[39mprint\u001b[39m(generate_text(\u001b[39m'\u001b[39m\u001b[39mwhat do you\u001b[39m\u001b[39m'\u001b[39m, \u001b[39m4\u001b[39m, model, max_sequence_len))\n",
      "\u001b[1;31mNameError\u001b[0m: name 'model' is not defined"
     ]
    }
   ],
   "source": [
    "def generate_text(seed_text, next_words, model, max_sequence_len):\n",
    "    for _ in range(next_words):\n",
    "        token_list = tokenizer.texts_to_sequences([seed_text])[0]\n",
    "        token_list = pad_sequences([token_list], maxlen=max_sequence_len-1, padding='pre')\n",
    "        predicted = np.argmax(model.predict(token_list), axis=1)\n",
    "        output_word = \"\"\n",
    "        for word,index in tokenizer.word_index.items():\n",
    "            if index == predicted:\n",
    "                output_word = word\n",
    "                break\n",
    "        seed_text += \" \"+output_word\n",
    "    return seed_text.title()\n",
    "\n",
    "print(generate_text('what do you', 4, model, max_sequence_len))"
   ]
  },
  {
   "attachments": {},
   "cell_type": "markdown",
   "metadata": {},
   "source": [
    "b) Após o treinamento, exiba pelo menos 5 exemplos de textos dados de entrada, e do texto gerado em seguida pela rede treinada. Para cada exemplo, gere pelo menos 10 palavras consecutivamente."
   ]
  },
  {
   "cell_type": "code",
   "execution_count": null,
   "metadata": {},
   "outputs": [],
   "source": [
    "print(generate_text('what do you', 10, model, max_sequence_len))\n",
    "print(generate_text('who is', 10, model, max_sequence_len))\n",
    "print(generate_text('what do you think', 10, model, max_sequence_len))\n",
    "print(generate_text('the tech industry is', 10, model, max_sequence_len))\n",
    "print(generate_text('coding is', 10, model, max_sequence_len))"
   ]
  },
  {
   "attachments": {},
   "cell_type": "markdown",
   "metadata": {},
   "source": [
    "4. Usando sua base de textos e a biblioteca spaCy, realize as seguintes tarefas:<br>\n",
    "a) Extraia as etiquetas gramaticais (POS) de cada token do seu textos.<br>\n",
    "b) Calcule e plote um gráfico com as frequências de cada tipo gramatical."
   ]
  },
  {
   "cell_type": "code",
   "execution_count": 18,
   "metadata": {},
   "outputs": [
    {
     "data": {
      "image/png": "[encoded data removed]",
      "text/plain": [
       "<Figure size 1500x400 with 1 Axes>"
      ]
     },
     "metadata": {},
     "output_type": "display_data"
    }
   ],
   "source": [
    "nlp = spacy.load(\"en_core_web_sm\")\n",
    "pos_count = []\n",
    "\n",
    "for doc in df[\"text\"]:\n",
    "    for token in nlp(doc):\n",
    "        pos_count.append(token.pos_)\n",
    "\n",
    "plt.figure(figsize=(15,4))\n",
    "plt.hist(pos_count)\n",
    "plt.show()"
   ]
  },
  {
   "attachments": {},
   "cell_type": "markdown",
   "metadata": {},
   "source": [
    "c) Extraia entidades do tipo pessoa e lugar dos seus textos."
   ]
  },
  {
   "cell_type": "code",
   "execution_count": 19,
   "metadata": {},
   "outputs": [
    {
     "name": "stdout",
     "output_type": "stream",
     "text": [
      "[('minutuae', 'PERSON'), ('k roslyn', 'PERSON'), ('msbuild', 'PERSON'), ('asana ifttt', 'PERSON'), ('china', 'GPE'), ('north korea', 'GPE'), ('philadelphia', 'GPE'), ('mozilla jim blandy', 'PERSON'), ('malibu', 'GPE'), ('beverly hills', 'GPE')]\n"
     ]
    }
   ],
   "source": [
    "entities = []\n",
    "for doc in df[\"text\"]:\n",
    "    for entity in nlp(doc).ents:\n",
    "        if entity.label_ in ['PERSON', 'GPE']:\n",
    "            entities.append((entity.text, entity.label_))\n",
    "print(entities[:10])\n"
   ]
  },
  {
   "attachments": {},
   "cell_type": "markdown",
   "metadata": {},
   "source": [
    "d) Identifique e liste as pessoas mais frequentes nos seus textos. Você só deve contar cada entidade 1 vez por documento."
   ]
  },
  {
   "cell_type": "code",
   "execution_count": 20,
   "metadata": {},
   "outputs": [
    {
     "name": "stdout",
     "output_type": "stream",
     "text": [
      "https 28\n",
      "kernel 22\n",
      "java 14\n",
      "don 13\n",
      "max 10\n",
      "bush 9\n",
      "kinda 8\n",
      "npm 8\n",
      "gpu 7\n",
      "enmwikipediaorg wiki 6\n"
     ]
    }
   ],
   "source": [
    "person_freq = {}\n",
    "for doc in df[\"text\"]:\n",
    "    persons = {}\n",
    "    for entity in nlp(doc).ents:\n",
    "        if entity.label_ == 'PERSON':\n",
    "            persons[entity.text] = 1\n",
    "    for key, value in persons.items():\n",
    "        if key in person_freq:\n",
    "            person_freq[key] += 1\n",
    "        else:\n",
    "            person_freq[key] = 1\n",
    "\n",
    "for x in sorted(person_freq, key=person_freq.get, reverse=True)[:10]:\n",
    "    print(x, person_freq[x])\n"
   ]
  }
 ],
 "metadata": {
  "kernelspec": {
   "display_name": "Python 3",
   "language": "python",
   "name": "python3"
  },
  "language_info": {
   "codemirror_mode": {
    "name": "ipython",
    "version": 3
   },
   "file_extension": ".py",
   "mimetype": "text/x-python",
   "name": "python",
   "nbconvert_exporter": "python",
   "pygments_lexer": "ipython3",
   "version": "3.10.7"
  },
  "orig_nbformat": 4,
  "vscode": {
   "interpreter": {
    "hash": "c3503f95e0e8f4afdf6702396a7a2a29cae9f67572acfe092405dcaa2579b817"
   }
  }
 },
 "nbformat": 4,
 "nbformat_minor": 2
}
